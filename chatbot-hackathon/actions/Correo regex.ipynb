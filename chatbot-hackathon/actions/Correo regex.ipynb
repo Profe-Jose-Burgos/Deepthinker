{
 "cells": [
  {
   "cell_type": "code",
   "execution_count": null,
   "id": "f5f173bd",
   "metadata": {},
   "outputs": [],
   "source": [
    "# Recoger correos de un string con regex"
   ]
  },
  {
   "cell_type": "code",
   "execution_count": 1,
   "id": "cf01c1f5",
   "metadata": {},
   "outputs": [],
   "source": [
    "import re\n",
    "pattern = r\"\\b[a-z|0-9]{6,64}@[a-z|0-9]{1,254}.[a-z|0-9]{0,10}\\b\"\n",
    "\n",
    "my_str = \"my email is adga2002@hotmail.com ñeñeñao\"\n",
    "\n",
    "\n",
    "\n",
    "def check_email(pattern, my_str):\n",
    "    match = re.search(pattern, my_str)\n",
    "    \n",
    "    if match:\n",
    "        print(\"Gracias por su correo!\")\n",
    "        print(match.group())\n",
    "        return [\"Guardar el dato\"]\n",
    "    \n",
    "    print(\"No te entendí bien...\")\n",
    "    return []"
   ]
  },
  {
   "cell_type": "code",
   "execution_count": 2,
   "id": "d06f2e6b",
   "metadata": {
    "scrolled": true
   },
   "outputs": [
    {
     "name": "stdout",
     "output_type": "stream",
     "text": [
      "Gracias por su correo!\n",
      "adga2002@hotmail.com\n"
     ]
    },
    {
     "data": {
      "text/plain": [
       "['Guardar el dato']"
      ]
     },
     "execution_count": 2,
     "metadata": {},
     "output_type": "execute_result"
    }
   ],
   "source": [
    "check_email(pattern, my_str)"
   ]
  },
  {
   "cell_type": "code",
   "execution_count": null,
   "id": "795897a5",
   "metadata": {},
   "outputs": [],
   "source": [
    "# Función de abajo para Rasa (depreciada, no será usada)"
   ]
  },
  {
   "cell_type": "code",
   "execution_count": 3,
   "id": "2aaf3b0c",
   "metadata": {
    "collapsed": true
   },
   "outputs": [
    {
     "ename": "NameError",
     "evalue": "name 'Action' is not defined",
     "output_type": "error",
     "traceback": [
      "\u001b[1;31m---------------------------------------------------------------------------\u001b[0m",
      "\u001b[1;31mNameError\u001b[0m                                 Traceback (most recent call last)",
      "\u001b[1;32m<ipython-input-3-f68663ddef41>\u001b[0m in \u001b[0;36m<module>\u001b[1;34m\u001b[0m\n\u001b[0;32m      3\u001b[0m \u001b[0memail_db\u001b[0m \u001b[1;33m=\u001b[0m \u001b[1;33m{\u001b[0m\u001b[1;34m\"\"\u001b[0m\u001b[1;33m:\u001b[0m\u001b[1;34m\"\"\u001b[0m\u001b[1;33m,\u001b[0m \u001b[1;34m\"\"\u001b[0m\u001b[1;33m:\u001b[0m\u001b[1;34m\"\"\u001b[0m\u001b[1;33m}\u001b[0m\u001b[1;33m\u001b[0m\u001b[1;33m\u001b[0m\u001b[0m\n\u001b[0;32m      4\u001b[0m \u001b[1;33m\u001b[0m\u001b[0m\n\u001b[1;32m----> 5\u001b[1;33m \u001b[1;32mclass\u001b[0m \u001b[0mActionGetEmail\u001b[0m\u001b[1;33m(\u001b[0m\u001b[0mAction\u001b[0m\u001b[1;33m)\u001b[0m\u001b[1;33m:\u001b[0m\u001b[1;33m\u001b[0m\u001b[1;33m\u001b[0m\u001b[0m\n\u001b[0m\u001b[0;32m      6\u001b[0m \u001b[1;33m\u001b[0m\u001b[0m\n\u001b[0;32m      7\u001b[0m     \u001b[1;32mdef\u001b[0m \u001b[0mname\u001b[0m\u001b[1;33m(\u001b[0m\u001b[0mself\u001b[0m\u001b[1;33m)\u001b[0m \u001b[1;33m->\u001b[0m \u001b[0mText\u001b[0m\u001b[1;33m:\u001b[0m\u001b[1;33m\u001b[0m\u001b[1;33m\u001b[0m\u001b[0m\n",
      "\u001b[1;31mNameError\u001b[0m: name 'Action' is not defined"
     ]
    }
   ],
   "source": [
    "# import re\n",
    "\n",
    "# email_db = {\"\":\"\", \"\":\"\"}\n",
    "\n",
    "# class ActionGetEmail(Action):\n",
    "\n",
    "#     def name(self) -> Text:\n",
    "#         return \"action_get_email\"\n",
    "\n",
    "#     def run(self, dispatcher: CollectingDispatcher,\n",
    "#             tracker: Tracker,\n",
    "#             domain: Dict[Text, Any]) -> List[Dict[Text, Any]]:\n",
    "        \n",
    "#         re_pattern = r\"\\b[a-z|0-9]{6,64}@[a-z]{1,254}.[a-z]{0,10}\\b\"\n",
    "#         email_str = tracker.latest_message['text']\n",
    "        \n",
    "#         match = re.search(pattern, email_str)\n",
    "        \n",
    "#         if not match:\n",
    "#             msg = f\"No te entendí bien...\"\n",
    "#             dispatcher.utter_message(text=msg)\n",
    "#             return []\n",
    "                \n",
    "#         msg = f\"Guardamos su correo!\"\n",
    "#         dispatcher.utter_message(text=msg)\n",
    "        \n",
    "#         return []"
   ]
  },
  {
   "cell_type": "code",
   "execution_count": null,
   "id": "0ba6c591",
   "metadata": {},
   "outputs": [],
   "source": []
  }
 ],
 "metadata": {
  "kernelspec": {
   "display_name": "Python 3",
   "language": "python",
   "name": "python3"
  },
  "language_info": {
   "codemirror_mode": {
    "name": "ipython",
    "version": 3
   },
   "file_extension": ".py",
   "mimetype": "text/x-python",
   "name": "python",
   "nbconvert_exporter": "python",
   "pygments_lexer": "ipython3",
   "version": "3.8.8"
  }
 },
 "nbformat": 4,
 "nbformat_minor": 5
}
